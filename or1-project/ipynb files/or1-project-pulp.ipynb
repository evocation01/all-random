{
 "cells": [
  {
   "cell_type": "code",
   "execution_count": 76,
   "metadata": {},
   "outputs": [],
   "source": [
    "import pandas as pd\n",
    "from pulp import LpMinimize, LpProblem, LpVariable, lpSum, value\n",
    "\n",
    "# Load datasets\n",
    "warehouse_capabilities = pd.read_csv(\n",
    "    \"data/Supply chain logistics problem - WhCapabilities.csv\"\n",
    ")\n",
    "freight_rates = pd.read_csv(\"data/Supply chain logistics problem - FreightRates.csv\")\n",
    "plant_ports = pd.read_csv(\"data/Supply chain logistics problem - PlantPorts.csv\")\n",
    "products_per_plant = pd.read_csv(\n",
    "    \"data/Supply chain logistics problem - ProductsPerPlant.csv\"\n",
    ")\n",
    "order_list = pd.read_csv(\"data/Supply chain logistics problem - OrderList.csv\")\n",
    "vmi_customers = pd.read_csv(\"data/Supply chain logistics problem - VmiCustomers.csv\")\n",
    "wh_costs = pd.read_csv(\"data/Supply chain logistics problem - WhCosts.csv\")"
   ]
  },
  {
   "cell_type": "code",
   "execution_count": 79,
   "metadata": {},
   "outputs": [
    {
     "name": "stdout",
     "output_type": "stream",
     "text": [
      "Status: Optimal\n",
      "Total Cost: 23146.711600000002\n",
      "PLANT15 -> PORT09: 11.0\n",
      "PLANT17 -> PORT09: 8.0\n",
      "PLANT18 -> PORT09: 111.0\n",
      "PLANT05 -> PORT09: 385.0\n",
      "PLANT02 -> PORT09: 138.0\n",
      "PLANT01 -> PORT09: 1070.0\n",
      "PLANT06 -> PORT09: 49.0\n",
      "PLANT10 -> PORT09: 118.0\n",
      "PLANT07 -> PORT09: 265.0\n",
      "PLANT14 -> PORT09: 549.0\n",
      "PLANT16 -> PORT09: 457.0\n",
      "PLANT12 -> PORT09: 209.0\n",
      "PLANT11 -> PORT09: 332.0\n",
      "PLANT09 -> PORT09: 11.0\n",
      "PLANT03 -> PORT09: 1013.0\n",
      "PLANT13 -> PORT09: 490.0\n",
      "PLANT19 -> PORT09: 7.0\n",
      "PLANT08 -> PORT09: 14.0\n",
      "PLANT04 -> PORT09: 554.0\n"
     ]
    }
   ],
   "source": [
    "import pandas as pd\n",
    "from pulp import LpProblem, LpMinimize, LpVariable, lpSum, value, LpStatus\n",
    "\n",
    "# Load datasets\n",
    "freight_rates = pd.read_excel(\"data/Supply chain logistics problem.xlsx\", sheet_name=\"FreightRates\")\n",
    "warehouse_capabilities = pd.read_excel(\"data/Supply chain logistics problem.xlsx\", sheet_name=\"WhCapacities\")\n",
    "order_list = pd.read_excel(\"data/Supply chain logistics problem.xlsx\", sheet_name=\"OrderList\")\n",
    "plant_ports = pd.read_excel(\"data/Supply chain logistics problem.xlsx\", sheet_name=\"PlantPorts\")\n",
    "\n",
    "# Convert 'rate' column to numeric by removing '$' and converting to float\n",
    "freight_rates['minimum cost'] = freight_rates['minimum cost'].replace('[\\$,]', '', regex=True).astype(float)\n",
    "\n",
    "# Aggregate demand by destination port\n",
    "demand_by_port = order_list.groupby('Destination Port')['Unit quantity'].sum().to_dict()\n",
    "total_demand = sum(demand_by_port.values())\n",
    "\n",
    "# Extract plant capacities\n",
    "plant_capacities = warehouse_capabilities.set_index(\"Plant ID\")['Daily Capacity '].to_dict()\n",
    "total_supply = sum(plant_capacities.values())  # Calculate total supply from plant capacities\n",
    "\n",
    "# Map plants to their respective ports\n",
    "plant_to_port = plant_ports.set_index(\"Plant Code\")['Port'].to_dict()\n",
    "\n",
    "# Filter relevant freight rates based on available plant-port combinations\n",
    "relevant_freight_rates = freight_rates[\n",
    "    freight_rates['orig_port_cd'].isin(plant_to_port.values())\n",
    "    & freight_rates['dest_port_cd'].isin(demand_by_port.keys())\n",
    "]\n",
    "\n",
    "# Create cost dictionary for relevant (origin, destination) pairs\n",
    "freight_costs = (\n",
    "    relevant_freight_rates.groupby([\"orig_port_cd\", \"dest_port_cd\"])['minimum cost']\n",
    "    .min()\n",
    "    .to_dict()\n",
    ")\n",
    "\n",
    "# Ensure valid pairs exist\n",
    "valid_pairs = [\n",
    "    (plant, \"PORT09\")\n",
    "    for plant, port in plant_to_port.items()\n",
    "    if (port, \"PORT09\") in freight_costs\n",
    "]\n",
    "\n",
    "# Initialize model\n",
    "model = LpProblem(\"Supply_Chain_Optimization_Simple\", LpMinimize)\n",
    "\n",
    "# Define decision variables for shipments (for all plants)\n",
    "ship_vars = {\n",
    "    (plant, \"PORT09\"): LpVariable(f\"Ship_{plant}_PORT09\", lowBound=0, cat='Continuous')\n",
    "    for plant in plant_capacities.keys()\n",
    "}\n",
    "\n",
    "# Objective function: Minimize transport cost\n",
    "model += lpSum(\n",
    "    ship_vars[(plant, \"PORT09\")] * freight_costs.get((plant_to_port[plant], \"PORT09\"), 1e6)\n",
    "    for plant in plant_capacities.keys()\n",
    "), \"Total_Transport_Cost\"\n",
    "\n",
    "# Supply constraints: Ensure total shipments from each plant do not exceed capacity\n",
    "for plant in plant_capacities.keys():\n",
    "    model += ship_vars[(plant, \"PORT09\")] <= plant_capacities[plant], f\"Supply_Constraint_{plant}\"\n",
    "\n",
    "# Demand constraint: Ensure total shipments meet total available supply\n",
    "model += lpSum(\n",
    "    ship_vars[(plant, \"PORT09\")] for plant in plant_capacities.keys()\n",
    ") == total_supply, \"Adjusted_Demand_Constraint\"\n",
    "\n",
    "\n",
    "# Solve the model\n",
    "model.solve()\n",
    "\n",
    "# Print results\n",
    "print(\"Status:\", LpStatus[model.status])\n",
    "print(\"Total Cost:\", value(model.objective))\n",
    "\n",
    "# Print shipment decisions\n",
    "for (plant, destination), var in ship_vars.items():\n",
    "    if var.varValue > 0:\n",
    "        print(f\"{plant} -> {destination}: {var.varValue}\")\n"
   ]
  },
  {
   "cell_type": "code",
   "execution_count": 2,
   "metadata": {},
   "outputs": [
    {
     "name": "stdout",
     "output_type": "stream",
     "text": [
      "Freight Costs (Plant to PORT09):\n",
      "PORT02: 1.43\n",
      "PORT03: 19.3644\n",
      "PORT04: 1.202\n",
      "PORT05: 1.5584\n",
      "PORT06: 1.3352\n",
      "PORT07: 9.6272\n",
      "PORT08: 19.0272\n",
      "PORT09: 17.6888\n",
      "PORT10: 1.4024\n",
      "PORT11: 7.8272\n"
     ]
    }
   ],
   "source": [
    "import pandas as pd\n",
    "\n",
    "freight_rates = pd.read_excel(\"data/Supply chain logistics problem.xlsx\", sheet_name=\"FreightRates\")\n",
    "plant_ports = pd.read_excel(\"data/Supply chain logistics problem.xlsx\", sheet_name=\"PlantPorts\")\n",
    "\n",
    "# Convert 'minimum cost' column to numeric\n",
    "freight_rates['minimum cost'] = freight_rates['minimum cost'].replace('[\\$,]', '', regex=True).astype(float)\n",
    "\n",
    "# Map plants to their respective ports\n",
    "plant_to_port = plant_ports.set_index(\"Plant Code\")['Port'].to_dict()\n",
    "\n",
    "# Filter relevant freight rates\n",
    "relevant_freight_rates = freight_rates[\n",
    "    freight_rates[\"orig_port_cd\"].isin(plant_to_port.values())\n",
    "    & (freight_rates[\"dest_port_cd\"] == \"PORT09\")\n",
    "]\n",
    "\n",
    "# Create a dictionary of freight costs for each plant to PORT09\n",
    "freight_costs = relevant_freight_rates.groupby(\"orig_port_cd\")[\"minimum cost\"].min().to_dict()\n",
    "\n",
    "# Print the freight costs\n",
    "print(\"Freight Costs (Plant to PORT09):\")\n",
    "for plant, cost in freight_costs.items():\n",
    "    print(f\"{plant}: {cost}\")\n"
   ]
  },
  {
   "cell_type": "code",
   "execution_count": 3,
   "metadata": {},
   "outputs": [
    {
     "name": "stdout",
     "output_type": "stream",
     "text": [
      "Plant-to-Port Mapping with Capacities and Freight Costs:\n",
      "PLANT01: Port = PORT02, Capacity = 1070, Cost = 1.43\n",
      "PLANT02: Port = PORT03, Capacity = 138, Cost = 19.3644\n",
      "PLANT03: Port = PORT04, Capacity = 1013, Cost = 1.202\n",
      "PLANT04: Port = PORT05, Capacity = 554, Cost = 1.5584\n",
      "PLANT05: Port = PORT06, Capacity = 385, Cost = 1.3352\n",
      "PLANT06: Port = PORT06, Capacity = 49, Cost = 1.3352\n",
      "PLANT07: Port = PORT02, Capacity = 265, Cost = 1.43\n",
      "PLANT08: Port = PORT04, Capacity = 14, Cost = 1.202\n",
      "PLANT09: Port = PORT04, Capacity = 11, Cost = 1.202\n",
      "PLANT10: Port = PORT02, Capacity = 118, Cost = 1.43\n",
      "PLANT11: Port = PORT04, Capacity = 332, Cost = 1.202\n",
      "PLANT12: Port = PORT04, Capacity = 209, Cost = 1.202\n",
      "PLANT13: Port = PORT04, Capacity = 490, Cost = 1.202\n",
      "PLANT14: Port = PORT07, Capacity = 549, Cost = 9.6272\n",
      "PLANT15: Port = PORT08, Capacity = 11, Cost = 19.0272\n",
      "PLANT16: Port = PORT09, Capacity = 457, Cost = 17.6888\n",
      "PLANT17: Port = PORT10, Capacity = 8, Cost = 1.4024\n",
      "PLANT18: Port = PORT11, Capacity = 111, Cost = 7.8272\n",
      "PLANT19: Port = PORT04, Capacity = 7, Cost = 1.202\n"
     ]
    }
   ],
   "source": [
    "import pandas as pd\n",
    "\n",
    "# Load datasets\n",
    "freight_rates = pd.read_excel(\"data/Supply chain logistics problem.xlsx\", sheet_name=\"FreightRates\")\n",
    "plant_ports = pd.read_excel(\"data/Supply chain logistics problem.xlsx\", sheet_name=\"PlantPorts\")\n",
    "warehouse_capacities = pd.read_excel(\"data/Supply chain logistics problem.xlsx\", sheet_name=\"WhCapacities\")\n",
    "\n",
    "# Convert 'minimum cost' column to numeric\n",
    "freight_rates['minimum cost'] = freight_rates['minimum cost'].replace('[\\$,]', '', regex=True).astype(float)\n",
    "\n",
    "# Map plants to their respective ports\n",
    "plant_to_port = plant_ports.set_index(\"Plant Code\")['Port'].to_dict()\n",
    "\n",
    "# Create a DataFrame for capacities\n",
    "capacities_df = warehouse_capacities.set_index(\"Plant ID\")[\"Daily Capacity \"]\n",
    "\n",
    "# Filter relevant freight rates where destination port is PORT09\n",
    "relevant_freight_rates = freight_rates[\n",
    "    (freight_rates[\"dest_port_cd\"] == \"PORT09\")\n",
    "    & (freight_rates[\"orig_port_cd\"].isin(plant_to_port.values()))\n",
    "]\n",
    "\n",
    "# Create a dictionary of freight costs for each plant\n",
    "freight_costs = {\n",
    "    plant: relevant_freight_rates.loc[\n",
    "        relevant_freight_rates[\"orig_port_cd\"] == port, \"minimum cost\"\n",
    "    ].min()\n",
    "    for plant, port in plant_to_port.items()\n",
    "}\n",
    "\n",
    "# Print plant-to-port mapping with capacities and freight costs\n",
    "print(\"Plant-to-Port Mapping with Capacities and Freight Costs:\")\n",
    "for plant in plant_to_port.keys():\n",
    "    print(f\"{plant}: Port = {plant_to_port[plant]}, Capacity = {capacities_df[plant]}, Cost = {freight_costs[plant]}\")\n"
   ]
  },
  {
   "cell_type": "code",
   "execution_count": 3,
   "metadata": {},
   "outputs": [
    {
     "name": "stdout",
     "output_type": "stream",
     "text": [
      "Column Names in Freight Rates Dataset: Index(['Carrier', 'orig_port_cd', 'dest_port_cd', 'minm_wgh_qty',\n",
      "       'max_wgh_qty', 'svc_cd', 'minimum cost', 'rate', 'mode_dsc',\n",
      "       'tpt_day_cnt', 'Carrier type'],\n",
      "      dtype='object')\n",
      "Sample Data in Freight Rates Dataset:\n",
      "  Carrier orig_port_cd dest_port_cd  minm_wgh_qty max_wgh_qty svc_cd  \\\n",
      "0  V444_6       PORT08       PORT09         250.0      499.99    DTD   \n",
      "1  V444_6       PORT08       PORT09          65.0       69.99    DTD   \n",
      "2  V444_6       PORT08       PORT09          60.0       64.99    DTD   \n",
      "3  V444_6       PORT08       PORT09          50.0       54.99    DTD   \n",
      "4  V444_6       PORT08       PORT09          35.0       39.99    DTD   \n",
      "\n",
      "  minimum cost     rate mode_dsc  tpt_day_cnt Carrier type  \n",
      "0      $43.23    $0.71    AIR               2  V88888888_0  \n",
      "1      $43.23    $0.75    AIR               2  V88888888_0  \n",
      "2      $43.23    $0.79    AIR               2  V88888888_0  \n",
      "3      $43.23    $0.83    AIR               2  V88888888_0  \n",
      "4      $43.23    $1.06    AIR               2  V88888888_0  \n"
     ]
    }
   ],
   "source": [
    "# Check the column names in the freight_rates dataset\n",
    "print(\"Column Names in Freight Rates Dataset:\", freight_rates.columns)\n",
    "\n",
    "# Display the first few rows for reference\n",
    "print(\"Sample Data in Freight Rates Dataset:\")\n",
    "print(freight_rates.head())\n"
   ]
  },
  {
   "cell_type": "code",
   "execution_count": 5,
   "metadata": {},
   "outputs": [
    {
     "name": "stdout",
     "output_type": "stream",
     "text": [
      "Column Names in Warehouse Capabilities Dataset: Index(['Plant ID', 'Daily Capacity '], dtype='object')\n",
      "Sample Data in Warehouse Capabilities Dataset:\n",
      "  Plant ID  Daily Capacity \n",
      "0  PLANT15               11\n",
      "1  PLANT17                8\n",
      "2  PLANT18              111\n",
      "3  PLANT05              385\n",
      "4  PLANT02              138\n"
     ]
    }
   ],
   "source": [
    "print(\"Column Names in Warehouse Capabilities Dataset:\", warehouse_capabilities.columns)\n",
    "print(\"Sample Data in Warehouse Capabilities Dataset:\")\n",
    "print(warehouse_capabilities.head())\n"
   ]
  },
  {
   "cell_type": "code",
   "execution_count": 9,
   "metadata": {},
   "outputs": [
    {
     "name": "stdout",
     "output_type": "stream",
     "text": [
      "  orig_port_cd dest_port_cd  rate\n",
      "0       PORT08       PORT09  0.71\n",
      "1       PORT08       PORT09  0.75\n",
      "2       PORT08       PORT09  0.79\n",
      "3       PORT08       PORT09  0.83\n",
      "4       PORT08       PORT09  1.06\n"
     ]
    }
   ],
   "source": [
    "print(freight_rates[['orig_port_cd', 'dest_port_cd', 'rate']].head())\n"
   ]
  },
  {
   "cell_type": "code",
   "execution_count": 10,
   "metadata": {},
   "outputs": [
    {
     "name": "stdout",
     "output_type": "stream",
     "text": [
      "Destination Port\n",
      "PORT09    29513315\n",
      "Name: Unit quantity, dtype: int64\n"
     ]
    }
   ],
   "source": [
    "demand_summary = order_list.groupby('Destination Port')['Unit quantity'].sum()\n",
    "print(demand_summary)\n"
   ]
  },
  {
   "cell_type": "code",
   "execution_count": 11,
   "metadata": {},
   "outputs": [],
   "source": [
    "for origin, destination in ship_vars:\n",
    "    if origin == destination:\n",
    "        model += ship_vars[(origin, destination)] == 0, f\"No_Self_Loop_{origin}_{destination}\"\n"
   ]
  },
  {
   "cell_type": "code",
   "execution_count": 12,
   "metadata": {},
   "outputs": [
    {
     "name": "stdout",
     "output_type": "stream",
     "text": [
      "0 <= 11\n",
      "0 <= 8\n",
      "0 <= 111\n",
      "0 <= 385\n",
      "0 <= 138\n",
      "0 <= 1070\n",
      "0 <= 49\n",
      "0 <= 118\n",
      "0 <= 265\n",
      "0 <= 549\n",
      "0 <= 457\n",
      "0 <= 209\n",
      "0 <= 332\n",
      "0 <= 11\n",
      "0 <= 1013\n",
      "0 <= 490\n",
      "0 <= 7\n",
      "0 <= 14\n",
      "0 <= 554\n",
      "Ship_PORT02_PORT09 + Ship_PORT03_PORT09 + Ship_PORT04_PORT09 + Ship_PORT05_PORT09 + Ship_PORT06_PORT09 + Ship_PORT07_PORT09 + Ship_PORT08_PORT09 + Ship_PORT09_PORT09 + Ship_PORT10_PORT09 + Ship_PORT11_PORT09 >= 29513315\n",
      "Ship_PORT09_PORT09 = 0\n"
     ]
    }
   ],
   "source": [
    "for constraint in model.constraints.values():\n",
    "    print(constraint)\n"
   ]
  },
  {
   "cell_type": "code",
   "execution_count": 14,
   "metadata": {},
   "outputs": [
    {
     "name": "stdout",
     "output_type": "stream",
     "text": [
      "     Destination Port  Unit quantity\n",
      "6858           PORT09         561847\n",
      "6880           PORT09         469247\n",
      "6883           PORT09         454079\n",
      "6882           PORT09         436703\n",
      "6865           PORT09         384637\n"
     ]
    }
   ],
   "source": [
    "print(order_list[['Destination Port', 'Unit quantity']].sort_values(by='Unit quantity', ascending=False).head())\n"
   ]
  },
  {
   "cell_type": "code",
   "execution_count": 16,
   "metadata": {},
   "outputs": [
    {
     "name": "stdout",
     "output_type": "stream",
     "text": [
      "   Plant ID  Daily Capacity \n",
      "0   PLANT15               11\n",
      "1   PLANT17                8\n",
      "2   PLANT18              111\n",
      "3   PLANT05              385\n",
      "4   PLANT02              138\n",
      "5   PLANT01             1070\n",
      "6   PLANT06               49\n",
      "7   PLANT10              118\n",
      "8   PLANT07              265\n",
      "9   PLANT14              549\n",
      "10  PLANT16              457\n",
      "11  PLANT12              209\n",
      "12  PLANT11              332\n",
      "13  PLANT09               11\n",
      "14  PLANT03             1013\n",
      "15  PLANT13              490\n",
      "16  PLANT19                7\n",
      "17  PLANT08               14\n",
      "18  PLANT04              554\n"
     ]
    }
   ],
   "source": [
    "print(warehouse_capabilities)\n"
   ]
  },
  {
   "cell_type": "code",
   "execution_count": 17,
   "metadata": {},
   "outputs": [
    {
     "name": "stdout",
     "output_type": "stream",
     "text": [
      "              rate\n",
      "count  1540.000000\n",
      "mean      2.892987\n",
      "std       4.603847\n",
      "min       0.030000\n",
      "25%       0.472500\n",
      "50%       1.665000\n",
      "75%       3.932500\n",
      "max     128.030000\n"
     ]
    }
   ],
   "source": [
    "print(freight_rates[['orig_port_cd', 'dest_port_cd', 'rate']].describe())\n"
   ]
  },
  {
   "cell_type": "code",
   "execution_count": 18,
   "metadata": {},
   "outputs": [
    {
     "name": "stdout",
     "output_type": "stream",
     "text": [
      "Total Demand: 29513315, Total Supply: 5791\n"
     ]
    }
   ],
   "source": [
    "total_demand = order_list['Unit quantity'].sum()\n",
    "total_supply = warehouse_capabilities['Daily Capacity '].sum()\n",
    "print(f\"Total Demand: {total_demand}, Total Supply: {total_supply}\")\n"
   ]
  }
 ],
 "metadata": {
  "kernelspec": {
   "display_name": "py310",
   "language": "python",
   "name": "python3"
  },
  "language_info": {
   "codemirror_mode": {
    "name": "ipython",
    "version": 3
   },
   "file_extension": ".py",
   "mimetype": "text/x-python",
   "name": "python",
   "nbconvert_exporter": "python",
   "pygments_lexer": "ipython3",
   "version": "3.10.16"
  }
 },
 "nbformat": 4,
 "nbformat_minor": 2
}
